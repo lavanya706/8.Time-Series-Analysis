{
 "cells": [
  {
   "cell_type": "code",
   "execution_count": 1,
   "id": "807576ea",
   "metadata": {},
   "outputs": [],
   "source": [
    "import pandas as pd"
   ]
  },
  {
   "cell_type": "code",
   "execution_count": 2,
   "id": "63810acb",
   "metadata": {},
   "outputs": [],
   "source": [
    "#!pip install nsepy"
   ]
  },
  {
   "cell_type": "code",
   "execution_count": 3,
   "id": "38c13ab3",
   "metadata": {},
   "outputs": [],
   "source": [
    "#pip install scikit-learn==1.0.0"
   ]
  },
  {
   "cell_type": "code",
   "execution_count": 4,
   "id": "62236d5a",
   "metadata": {},
   "outputs": [],
   "source": [
    "#pip install statsmodels==0.12.2"
   ]
  },
  {
   "cell_type": "code",
   "execution_count": 5,
   "id": "6ae5505a",
   "metadata": {},
   "outputs": [],
   "source": [
    "from nsepy import get_history as gh\n",
    "import datetime as dt"
   ]
  },
  {
   "cell_type": "code",
   "execution_count": 6,
   "id": "3a345807",
   "metadata": {},
   "outputs": [],
   "source": [
    "#!pip install yfinance"
   ]
  },
  {
   "cell_type": "code",
   "execution_count": 7,
   "id": "e131325b",
   "metadata": {},
   "outputs": [],
   "source": [
    "import yfinance as yf"
   ]
  },
  {
   "cell_type": "code",
   "execution_count": 8,
   "id": "0588a107",
   "metadata": {},
   "outputs": [
    {
     "name": "stderr",
     "output_type": "stream",
     "text": [
      "[*********************100%%**********************]  1 of 1 completed\n"
     ]
    }
   ],
   "source": [
    "import datetime as dt\n",
    "\n",
    "start = dt.datetime(2021, 7, 1)\n",
    "end = dt.datetime(2022, 1, 27)\n",
    "symbol = 'AXISBANK.NS'  # Stock symbol in uppercase\n",
    "\n",
    "stk_data = yf.download(symbol, start=start, end=end)"
   ]
  },
  {
   "cell_type": "code",
   "execution_count": 9,
   "id": "7b69e153",
   "metadata": {},
   "outputs": [
    {
     "data": {
      "text/html": [
       "<div>\n",
       "<style scoped>\n",
       "    .dataframe tbody tr th:only-of-type {\n",
       "        vertical-align: middle;\n",
       "    }\n",
       "\n",
       "    .dataframe tbody tr th {\n",
       "        vertical-align: top;\n",
       "    }\n",
       "\n",
       "    .dataframe thead th {\n",
       "        text-align: right;\n",
       "    }\n",
       "</style>\n",
       "<table border=\"1\" class=\"dataframe\">\n",
       "  <thead>\n",
       "    <tr style=\"text-align: right;\">\n",
       "      <th></th>\n",
       "      <th>Open</th>\n",
       "      <th>High</th>\n",
       "      <th>Low</th>\n",
       "      <th>Close</th>\n",
       "      <th>Adj Close</th>\n",
       "      <th>Volume</th>\n",
       "    </tr>\n",
       "    <tr>\n",
       "      <th>Date</th>\n",
       "      <th></th>\n",
       "      <th></th>\n",
       "      <th></th>\n",
       "      <th></th>\n",
       "      <th></th>\n",
       "      <th></th>\n",
       "    </tr>\n",
       "  </thead>\n",
       "  <tbody>\n",
       "    <tr>\n",
       "      <th>2021-07-01</th>\n",
       "      <td>750.000000</td>\n",
       "      <td>754.400024</td>\n",
       "      <td>744.500000</td>\n",
       "      <td>746.450012</td>\n",
       "      <td>744.555725</td>\n",
       "      <td>5695690</td>\n",
       "    </tr>\n",
       "    <tr>\n",
       "      <th>2021-07-02</th>\n",
       "      <td>747.599976</td>\n",
       "      <td>752.849976</td>\n",
       "      <td>744.000000</td>\n",
       "      <td>750.650024</td>\n",
       "      <td>748.745117</td>\n",
       "      <td>3557647</td>\n",
       "    </tr>\n",
       "    <tr>\n",
       "      <th>2021-07-05</th>\n",
       "      <td>757.099976</td>\n",
       "      <td>762.000000</td>\n",
       "      <td>753.400024</td>\n",
       "      <td>760.349976</td>\n",
       "      <td>758.420410</td>\n",
       "      <td>4680089</td>\n",
       "    </tr>\n",
       "    <tr>\n",
       "      <th>2021-07-06</th>\n",
       "      <td>757.000000</td>\n",
       "      <td>767.000000</td>\n",
       "      <td>755.200012</td>\n",
       "      <td>758.349976</td>\n",
       "      <td>756.425476</td>\n",
       "      <td>5529485</td>\n",
       "    </tr>\n",
       "    <tr>\n",
       "      <th>2021-07-07</th>\n",
       "      <td>755.900024</td>\n",
       "      <td>764.000000</td>\n",
       "      <td>752.250000</td>\n",
       "      <td>762.900024</td>\n",
       "      <td>760.963989</td>\n",
       "      <td>3573368</td>\n",
       "    </tr>\n",
       "    <tr>\n",
       "      <th>...</th>\n",
       "      <td>...</td>\n",
       "      <td>...</td>\n",
       "      <td>...</td>\n",
       "      <td>...</td>\n",
       "      <td>...</td>\n",
       "      <td>...</td>\n",
       "    </tr>\n",
       "    <tr>\n",
       "      <th>2022-01-19</th>\n",
       "      <td>725.200012</td>\n",
       "      <td>731.950012</td>\n",
       "      <td>718.700012</td>\n",
       "      <td>729.599976</td>\n",
       "      <td>727.748474</td>\n",
       "      <td>7746270</td>\n",
       "    </tr>\n",
       "    <tr>\n",
       "      <th>2022-01-20</th>\n",
       "      <td>731.049988</td>\n",
       "      <td>737.150024</td>\n",
       "      <td>722.150024</td>\n",
       "      <td>728.900024</td>\n",
       "      <td>727.050232</td>\n",
       "      <td>8505400</td>\n",
       "    </tr>\n",
       "    <tr>\n",
       "      <th>2022-01-21</th>\n",
       "      <td>722.000000</td>\n",
       "      <td>725.250000</td>\n",
       "      <td>708.049988</td>\n",
       "      <td>712.500000</td>\n",
       "      <td>710.691895</td>\n",
       "      <td>10689060</td>\n",
       "    </tr>\n",
       "    <tr>\n",
       "      <th>2022-01-24</th>\n",
       "      <td>715.000000</td>\n",
       "      <td>716.400024</td>\n",
       "      <td>688.200012</td>\n",
       "      <td>704.599976</td>\n",
       "      <td>702.811890</td>\n",
       "      <td>8812501</td>\n",
       "    </tr>\n",
       "    <tr>\n",
       "      <th>2022-01-25</th>\n",
       "      <td>714.000000</td>\n",
       "      <td>755.000000</td>\n",
       "      <td>708.599976</td>\n",
       "      <td>752.200012</td>\n",
       "      <td>750.291138</td>\n",
       "      <td>38088158</td>\n",
       "    </tr>\n",
       "  </tbody>\n",
       "</table>\n",
       "<p>143 rows × 6 columns</p>\n",
       "</div>"
      ],
      "text/plain": [
       "                  Open        High         Low       Close   Adj Close  \\\n",
       "Date                                                                     \n",
       "2021-07-01  750.000000  754.400024  744.500000  746.450012  744.555725   \n",
       "2021-07-02  747.599976  752.849976  744.000000  750.650024  748.745117   \n",
       "2021-07-05  757.099976  762.000000  753.400024  760.349976  758.420410   \n",
       "2021-07-06  757.000000  767.000000  755.200012  758.349976  756.425476   \n",
       "2021-07-07  755.900024  764.000000  752.250000  762.900024  760.963989   \n",
       "...                ...         ...         ...         ...         ...   \n",
       "2022-01-19  725.200012  731.950012  718.700012  729.599976  727.748474   \n",
       "2022-01-20  731.049988  737.150024  722.150024  728.900024  727.050232   \n",
       "2022-01-21  722.000000  725.250000  708.049988  712.500000  710.691895   \n",
       "2022-01-24  715.000000  716.400024  688.200012  704.599976  702.811890   \n",
       "2022-01-25  714.000000  755.000000  708.599976  752.200012  750.291138   \n",
       "\n",
       "              Volume  \n",
       "Date                  \n",
       "2021-07-01   5695690  \n",
       "2021-07-02   3557647  \n",
       "2021-07-05   4680089  \n",
       "2021-07-06   5529485  \n",
       "2021-07-07   3573368  \n",
       "...              ...  \n",
       "2022-01-19   7746270  \n",
       "2022-01-20   8505400  \n",
       "2022-01-21  10689060  \n",
       "2022-01-24   8812501  \n",
       "2022-01-25  38088158  \n",
       "\n",
       "[143 rows x 6 columns]"
      ]
     },
     "execution_count": 9,
     "metadata": {},
     "output_type": "execute_result"
    }
   ],
   "source": [
    "stk_data"
   ]
  },
  {
   "cell_type": "code",
   "execution_count": 10,
   "id": "439aaf72",
   "metadata": {},
   "outputs": [],
   "source": [
    "#start = dt.datetime(2021,7,1)\n",
    "#end = dt.datetime(2022,1,27)\n",
    "#stk_data = gh(symbol='NIFTY',start=start,end=end)"
   ]
  },
  {
   "cell_type": "code",
   "execution_count": 11,
   "id": "14f6a0d9",
   "metadata": {},
   "outputs": [
    {
     "data": {
      "text/html": [
       "<div>\n",
       "<style scoped>\n",
       "    .dataframe tbody tr th:only-of-type {\n",
       "        vertical-align: middle;\n",
       "    }\n",
       "\n",
       "    .dataframe tbody tr th {\n",
       "        vertical-align: top;\n",
       "    }\n",
       "\n",
       "    .dataframe thead th {\n",
       "        text-align: right;\n",
       "    }\n",
       "</style>\n",
       "<table border=\"1\" class=\"dataframe\">\n",
       "  <thead>\n",
       "    <tr style=\"text-align: right;\">\n",
       "      <th></th>\n",
       "      <th>Open</th>\n",
       "      <th>High</th>\n",
       "      <th>Low</th>\n",
       "      <th>Close</th>\n",
       "      <th>Adj Close</th>\n",
       "      <th>Volume</th>\n",
       "    </tr>\n",
       "    <tr>\n",
       "      <th>Date</th>\n",
       "      <th></th>\n",
       "      <th></th>\n",
       "      <th></th>\n",
       "      <th></th>\n",
       "      <th></th>\n",
       "      <th></th>\n",
       "    </tr>\n",
       "  </thead>\n",
       "  <tbody>\n",
       "    <tr>\n",
       "      <th>2021-07-01</th>\n",
       "      <td>750.000000</td>\n",
       "      <td>754.400024</td>\n",
       "      <td>744.500000</td>\n",
       "      <td>746.450012</td>\n",
       "      <td>744.555725</td>\n",
       "      <td>5695690</td>\n",
       "    </tr>\n",
       "    <tr>\n",
       "      <th>2021-07-02</th>\n",
       "      <td>747.599976</td>\n",
       "      <td>752.849976</td>\n",
       "      <td>744.000000</td>\n",
       "      <td>750.650024</td>\n",
       "      <td>748.745117</td>\n",
       "      <td>3557647</td>\n",
       "    </tr>\n",
       "    <tr>\n",
       "      <th>2021-07-05</th>\n",
       "      <td>757.099976</td>\n",
       "      <td>762.000000</td>\n",
       "      <td>753.400024</td>\n",
       "      <td>760.349976</td>\n",
       "      <td>758.420410</td>\n",
       "      <td>4680089</td>\n",
       "    </tr>\n",
       "    <tr>\n",
       "      <th>2021-07-06</th>\n",
       "      <td>757.000000</td>\n",
       "      <td>767.000000</td>\n",
       "      <td>755.200012</td>\n",
       "      <td>758.349976</td>\n",
       "      <td>756.425476</td>\n",
       "      <td>5529485</td>\n",
       "    </tr>\n",
       "    <tr>\n",
       "      <th>2021-07-07</th>\n",
       "      <td>755.900024</td>\n",
       "      <td>764.000000</td>\n",
       "      <td>752.250000</td>\n",
       "      <td>762.900024</td>\n",
       "      <td>760.963989</td>\n",
       "      <td>3573368</td>\n",
       "    </tr>\n",
       "    <tr>\n",
       "      <th>...</th>\n",
       "      <td>...</td>\n",
       "      <td>...</td>\n",
       "      <td>...</td>\n",
       "      <td>...</td>\n",
       "      <td>...</td>\n",
       "      <td>...</td>\n",
       "    </tr>\n",
       "    <tr>\n",
       "      <th>2022-01-19</th>\n",
       "      <td>725.200012</td>\n",
       "      <td>731.950012</td>\n",
       "      <td>718.700012</td>\n",
       "      <td>729.599976</td>\n",
       "      <td>727.748474</td>\n",
       "      <td>7746270</td>\n",
       "    </tr>\n",
       "    <tr>\n",
       "      <th>2022-01-20</th>\n",
       "      <td>731.049988</td>\n",
       "      <td>737.150024</td>\n",
       "      <td>722.150024</td>\n",
       "      <td>728.900024</td>\n",
       "      <td>727.050232</td>\n",
       "      <td>8505400</td>\n",
       "    </tr>\n",
       "    <tr>\n",
       "      <th>2022-01-21</th>\n",
       "      <td>722.000000</td>\n",
       "      <td>725.250000</td>\n",
       "      <td>708.049988</td>\n",
       "      <td>712.500000</td>\n",
       "      <td>710.691895</td>\n",
       "      <td>10689060</td>\n",
       "    </tr>\n",
       "    <tr>\n",
       "      <th>2022-01-24</th>\n",
       "      <td>715.000000</td>\n",
       "      <td>716.400024</td>\n",
       "      <td>688.200012</td>\n",
       "      <td>704.599976</td>\n",
       "      <td>702.811890</td>\n",
       "      <td>8812501</td>\n",
       "    </tr>\n",
       "    <tr>\n",
       "      <th>2022-01-25</th>\n",
       "      <td>714.000000</td>\n",
       "      <td>755.000000</td>\n",
       "      <td>708.599976</td>\n",
       "      <td>752.200012</td>\n",
       "      <td>750.291138</td>\n",
       "      <td>38088158</td>\n",
       "    </tr>\n",
       "  </tbody>\n",
       "</table>\n",
       "<p>143 rows × 6 columns</p>\n",
       "</div>"
      ],
      "text/plain": [
       "                  Open        High         Low       Close   Adj Close  \\\n",
       "Date                                                                     \n",
       "2021-07-01  750.000000  754.400024  744.500000  746.450012  744.555725   \n",
       "2021-07-02  747.599976  752.849976  744.000000  750.650024  748.745117   \n",
       "2021-07-05  757.099976  762.000000  753.400024  760.349976  758.420410   \n",
       "2021-07-06  757.000000  767.000000  755.200012  758.349976  756.425476   \n",
       "2021-07-07  755.900024  764.000000  752.250000  762.900024  760.963989   \n",
       "...                ...         ...         ...         ...         ...   \n",
       "2022-01-19  725.200012  731.950012  718.700012  729.599976  727.748474   \n",
       "2022-01-20  731.049988  737.150024  722.150024  728.900024  727.050232   \n",
       "2022-01-21  722.000000  725.250000  708.049988  712.500000  710.691895   \n",
       "2022-01-24  715.000000  716.400024  688.200012  704.599976  702.811890   \n",
       "2022-01-25  714.000000  755.000000  708.599976  752.200012  750.291138   \n",
       "\n",
       "              Volume  \n",
       "Date                  \n",
       "2021-07-01   5695690  \n",
       "2021-07-02   3557647  \n",
       "2021-07-05   4680089  \n",
       "2021-07-06   5529485  \n",
       "2021-07-07   3573368  \n",
       "...              ...  \n",
       "2022-01-19   7746270  \n",
       "2022-01-20   8505400  \n",
       "2022-01-21  10689060  \n",
       "2022-01-24   8812501  \n",
       "2022-01-25  38088158  \n",
       "\n",
       "[143 rows x 6 columns]"
      ]
     },
     "execution_count": 11,
     "metadata": {},
     "output_type": "execute_result"
    }
   ],
   "source": [
    "stk_data"
   ]
  },
  {
   "cell_type": "code",
   "execution_count": 12,
   "id": "21fc28d5",
   "metadata": {},
   "outputs": [],
   "source": [
    "stk_data=stk_data[[\"Open\",\"High\",\"Low\",\"Close\"]]\n"
   ]
  },
  {
   "cell_type": "code",
   "execution_count": 13,
   "id": "e06afec6",
   "metadata": {},
   "outputs": [
    {
     "data": {
      "text/html": [
       "<div>\n",
       "<style scoped>\n",
       "    .dataframe tbody tr th:only-of-type {\n",
       "        vertical-align: middle;\n",
       "    }\n",
       "\n",
       "    .dataframe tbody tr th {\n",
       "        vertical-align: top;\n",
       "    }\n",
       "\n",
       "    .dataframe thead th {\n",
       "        text-align: right;\n",
       "    }\n",
       "</style>\n",
       "<table border=\"1\" class=\"dataframe\">\n",
       "  <thead>\n",
       "    <tr style=\"text-align: right;\">\n",
       "      <th></th>\n",
       "      <th>Open</th>\n",
       "      <th>High</th>\n",
       "      <th>Low</th>\n",
       "      <th>Close</th>\n",
       "    </tr>\n",
       "    <tr>\n",
       "      <th>Date</th>\n",
       "      <th></th>\n",
       "      <th></th>\n",
       "      <th></th>\n",
       "      <th></th>\n",
       "    </tr>\n",
       "  </thead>\n",
       "  <tbody>\n",
       "    <tr>\n",
       "      <th>2021-07-01</th>\n",
       "      <td>750.000000</td>\n",
       "      <td>754.400024</td>\n",
       "      <td>744.500000</td>\n",
       "      <td>746.450012</td>\n",
       "    </tr>\n",
       "    <tr>\n",
       "      <th>2021-07-02</th>\n",
       "      <td>747.599976</td>\n",
       "      <td>752.849976</td>\n",
       "      <td>744.000000</td>\n",
       "      <td>750.650024</td>\n",
       "    </tr>\n",
       "    <tr>\n",
       "      <th>2021-07-05</th>\n",
       "      <td>757.099976</td>\n",
       "      <td>762.000000</td>\n",
       "      <td>753.400024</td>\n",
       "      <td>760.349976</td>\n",
       "    </tr>\n",
       "    <tr>\n",
       "      <th>2021-07-06</th>\n",
       "      <td>757.000000</td>\n",
       "      <td>767.000000</td>\n",
       "      <td>755.200012</td>\n",
       "      <td>758.349976</td>\n",
       "    </tr>\n",
       "    <tr>\n",
       "      <th>2021-07-07</th>\n",
       "      <td>755.900024</td>\n",
       "      <td>764.000000</td>\n",
       "      <td>752.250000</td>\n",
       "      <td>762.900024</td>\n",
       "    </tr>\n",
       "    <tr>\n",
       "      <th>...</th>\n",
       "      <td>...</td>\n",
       "      <td>...</td>\n",
       "      <td>...</td>\n",
       "      <td>...</td>\n",
       "    </tr>\n",
       "    <tr>\n",
       "      <th>2022-01-19</th>\n",
       "      <td>725.200012</td>\n",
       "      <td>731.950012</td>\n",
       "      <td>718.700012</td>\n",
       "      <td>729.599976</td>\n",
       "    </tr>\n",
       "    <tr>\n",
       "      <th>2022-01-20</th>\n",
       "      <td>731.049988</td>\n",
       "      <td>737.150024</td>\n",
       "      <td>722.150024</td>\n",
       "      <td>728.900024</td>\n",
       "    </tr>\n",
       "    <tr>\n",
       "      <th>2022-01-21</th>\n",
       "      <td>722.000000</td>\n",
       "      <td>725.250000</td>\n",
       "      <td>708.049988</td>\n",
       "      <td>712.500000</td>\n",
       "    </tr>\n",
       "    <tr>\n",
       "      <th>2022-01-24</th>\n",
       "      <td>715.000000</td>\n",
       "      <td>716.400024</td>\n",
       "      <td>688.200012</td>\n",
       "      <td>704.599976</td>\n",
       "    </tr>\n",
       "    <tr>\n",
       "      <th>2022-01-25</th>\n",
       "      <td>714.000000</td>\n",
       "      <td>755.000000</td>\n",
       "      <td>708.599976</td>\n",
       "      <td>752.200012</td>\n",
       "    </tr>\n",
       "  </tbody>\n",
       "</table>\n",
       "<p>143 rows × 4 columns</p>\n",
       "</div>"
      ],
      "text/plain": [
       "                  Open        High         Low       Close\n",
       "Date                                                      \n",
       "2021-07-01  750.000000  754.400024  744.500000  746.450012\n",
       "2021-07-02  747.599976  752.849976  744.000000  750.650024\n",
       "2021-07-05  757.099976  762.000000  753.400024  760.349976\n",
       "2021-07-06  757.000000  767.000000  755.200012  758.349976\n",
       "2021-07-07  755.900024  764.000000  752.250000  762.900024\n",
       "...                ...         ...         ...         ...\n",
       "2022-01-19  725.200012  731.950012  718.700012  729.599976\n",
       "2022-01-20  731.049988  737.150024  722.150024  728.900024\n",
       "2022-01-21  722.000000  725.250000  708.049988  712.500000\n",
       "2022-01-24  715.000000  716.400024  688.200012  704.599976\n",
       "2022-01-25  714.000000  755.000000  708.599976  752.200012\n",
       "\n",
       "[143 rows x 4 columns]"
      ]
     },
     "execution_count": 13,
     "metadata": {},
     "output_type": "execute_result"
    }
   ],
   "source": [
    "stk_data"
   ]
  },
  {
   "cell_type": "code",
   "execution_count": 14,
   "id": "abf32112",
   "metadata": {},
   "outputs": [],
   "source": [
    "column=\"Close\""
   ]
  },
  {
   "cell_type": "code",
   "execution_count": 15,
   "id": "056f2d77",
   "metadata": {},
   "outputs": [
    {
     "name": "stdout",
     "output_type": "stream",
     "text": [
      "Len: (143, 1)\n"
     ]
    }
   ],
   "source": [
    "from sklearn.preprocessing import MinMaxScaler\n",
    "Ms = MinMaxScaler()\n",
    "data1= Ms.fit_transform(stk_data[[column]])\n",
    "print(\"Len:\",data1.shape)"
   ]
  },
  {
   "cell_type": "code",
   "execution_count": 16,
   "id": "1443a06e",
   "metadata": {},
   "outputs": [
    {
     "data": {
      "text/plain": [
       "143"
      ]
     },
     "execution_count": 16,
     "metadata": {},
     "output_type": "execute_result"
    }
   ],
   "source": [
    "len(data1)"
   ]
  },
  {
   "cell_type": "code",
   "execution_count": 17,
   "id": "75b60dd1",
   "metadata": {},
   "outputs": [
    {
     "name": "stdout",
     "output_type": "stream",
     "text": [
      "136\n",
      "X_train length: (136, 1)\n",
      "X_test length: (7, 1)\n",
      "y_train length: (136, 1)\n",
      "y_test length: (7, 1)\n"
     ]
    }
   ],
   "source": [
    "training_size = round(len(data1 ) * 0.95)\n",
    "print(training_size)\n",
    "X_train=data1[:training_size]\n",
    "X_test=data1[training_size:]\n",
    "print(\"X_train length:\",X_train.shape)\n",
    "print(\"X_test length:\",X_test.shape)\n",
    "y_train=data1[:training_size]\n",
    "y_test=data1[training_size:]\n",
    "print(\"y_train length:\",y_train.shape)\n",
    "print(\"y_test length:\",y_test.shape)"
   ]
  },
  {
   "cell_type": "code",
   "execution_count": 18,
   "id": "f14e590d",
   "metadata": {},
   "outputs": [],
   "source": [
    "import warnings\n",
    "warnings.filterwarnings(\"ignore\")"
   ]
  },
  {
   "cell_type": "code",
   "execution_count": 19,
   "id": "0f46c3f9",
   "metadata": {},
   "outputs": [
    {
     "name": "stderr",
     "output_type": "stream",
     "text": [
      "C:\\Users\\lavanya\\anaconda3\\envs\\aiml\\lib\\site-packages\\statsmodels\\base\\model.py:568: ConvergenceWarning: Maximum Likelihood optimization failed to converge. Check mle_retvals\n",
      "  ConvergenceWarning)\n"
     ]
    },
    {
     "name": "stdout",
     "output_type": "stream",
     "text": [
      "Trend=n\n",
      "RMSE-Testset: 0.09726117950023651\n",
      "maPe-Testset: 0.16701191450993821\n",
      "************\n"
     ]
    },
    {
     "name": "stderr",
     "output_type": "stream",
     "text": [
      "C:\\Users\\lavanya\\anaconda3\\envs\\aiml\\lib\\site-packages\\statsmodels\\base\\model.py:568: ConvergenceWarning: Maximum Likelihood optimization failed to converge. Check mle_retvals\n",
      "  ConvergenceWarning)\n"
     ]
    },
    {
     "name": "stdout",
     "output_type": "stream",
     "text": [
      "Trend=t\n",
      "RMSE-Testset: 0.07747163606455264\n",
      "maPe-Testset: 0.15611741973421228\n",
      "************\n"
     ]
    },
    {
     "name": "stderr",
     "output_type": "stream",
     "text": [
      "C:\\Users\\lavanya\\anaconda3\\envs\\aiml\\lib\\site-packages\\statsmodels\\base\\model.py:568: ConvergenceWarning: Maximum Likelihood optimization failed to converge. Check mle_retvals\n",
      "  ConvergenceWarning)\n"
     ]
    },
    {
     "name": "stdout",
     "output_type": "stream",
     "text": [
      "Trend=c\n",
      "RMSE-Testset: 0.07604297598071572\n",
      "maPe-Testset: 0.15749759607661393\n",
      "************\n",
      "Trend=ct\n",
      "RMSE-Testset: 0.09346376310045607\n",
      "maPe-Testset: 0.16193760780690306\n",
      "************\n"
     ]
    },
    {
     "name": "stderr",
     "output_type": "stream",
     "text": [
      "C:\\Users\\lavanya\\anaconda3\\envs\\aiml\\lib\\site-packages\\statsmodels\\base\\model.py:568: ConvergenceWarning: Maximum Likelihood optimization failed to converge. Check mle_retvals\n",
      "  ConvergenceWarning)\n"
     ]
    }
   ],
   "source": [
    "from sklearn.metrics import mean_squared_error\n",
    "trends=['n','t','c','ct']\n",
    "#orders=[(1,0,1),(1,0,2)]\n",
    "from statsmodels.tsa.arima.model import ARIMA\n",
    "for td in trends:\n",
    "    model = ARIMA(X_train, order=(1, 0, 10), trend=td)\n",
    "    model_fit = model.fit()\n",
    "    y_pred = model_fit.predict(start=len(X_train), end=len(data1) - 1)\n",
    "    from sklearn.metrics import r2_score\n",
    "    mse=mean_squared_error(y_test,y_pred,squared=False)\n",
    "    from stockFunctions import rmsemape\n",
    "    print(\"Trend={}\".format(td))\n",
    "    rmsemape(y_test,y_pred)\n",
    "    print(\"************\")"
   ]
  },
  {
   "cell_type": "code",
   "execution_count": 20,
   "id": "3b7d41af",
   "metadata": {},
   "outputs": [
    {
     "data": {
      "text/plain": [
       "7"
      ]
     },
     "execution_count": 20,
     "metadata": {},
     "output_type": "execute_result"
    }
   ],
   "source": [
    "len(y_pred)"
   ]
  },
  {
   "cell_type": "code",
   "execution_count": 21,
   "id": "1644cb61",
   "metadata": {},
   "outputs": [
    {
     "name": "stdout",
     "output_type": "stream",
     "text": [
      "Trend=ct\n",
      "RMSE-Testset: 0.09346376310045607\n",
      "maPe-Testset: 0.16193760780690306\n",
      "************\n"
     ]
    },
    {
     "name": "stderr",
     "output_type": "stream",
     "text": [
      "C:\\Users\\lavanya\\anaconda3\\envs\\aiml\\lib\\site-packages\\statsmodels\\base\\model.py:568: ConvergenceWarning: Maximum Likelihood optimization failed to converge. Check mle_retvals\n",
      "  ConvergenceWarning)\n"
     ]
    }
   ],
   "source": [
    "from sklearn.metrics import mean_squared_error\n",
    "td='ct'\n",
    "model = ARIMA(X_train, order=(1,0,10),trend=td)\n",
    "model_fit = model.fit()\n",
    "# make prediction\n",
    "y_pred= model_fit.predict(len(X_train), len(data1)-1)\n",
    "#print(y_pred)\n",
    "from sklearn.metrics import r2_score\n",
    "mse=mean_squared_error(y_test,y_pred,squared=False)\n",
    "from stockFunctions import rmsemape\n",
    "print(\"Trend={}\".format(td))\n",
    "rmsemape(y_test,y_pred)\n",
    "print(\"************\")"
   ]
  },
  {
   "cell_type": "code",
   "execution_count": 22,
   "id": "ed159283",
   "metadata": {},
   "outputs": [
    {
     "data": {
      "image/png": "[encoded data removed]",
      "text/plain": [
       "<Figure size 1000x500 with 1 Axes>"
      ]
     },
     "metadata": {},
     "output_type": "display_data"
    }
   ],
   "source": [
    "from stockFunctions import graph\n",
    "graph(data1,y_test,\"Actual\",\"Predicted\",\"TataCoffee-Close-AR-Norm\",\"Days\",\"Prices\")"
   ]
  },
  {
   "cell_type": "code",
   "execution_count": 23,
   "id": "98889ccc",
   "metadata": {},
   "outputs": [
    {
     "data": {
      "text/plain": [
       "143"
      ]
     },
     "execution_count": 23,
     "metadata": {},
     "output_type": "execute_result"
    }
   ],
   "source": [
    "len(data1)"
   ]
  },
  {
   "cell_type": "code",
   "execution_count": 24,
   "id": "cb854239",
   "metadata": {},
   "outputs": [
    {
     "data": {
      "text/plain": [
       "array([[0.31726829],\n",
       "       [0.38195895],\n",
       "       [0.40463918],\n",
       "       [0.40103118],\n",
       "       [0.31649497],\n",
       "       [0.2757732 ],\n",
       "       [0.52113421]])"
      ]
     },
     "execution_count": 24,
     "metadata": {},
     "output_type": "execute_result"
    }
   ],
   "source": [
    "y_test"
   ]
  },
  {
   "cell_type": "code",
   "execution_count": 25,
   "id": "3d0e8859",
   "metadata": {},
   "outputs": [],
   "source": [
    "from stockFunctions import conversionSingle\n",
    "aTestNormTable=conversionSingle(y_test,[column])"
   ]
  },
  {
   "cell_type": "code",
   "execution_count": 26,
   "id": "8e063343",
   "metadata": {},
   "outputs": [
    {
     "data": {
      "text/html": [
       "<div>\n",
       "<style scoped>\n",
       "    .dataframe tbody tr th:only-of-type {\n",
       "        vertical-align: middle;\n",
       "    }\n",
       "\n",
       "    .dataframe tbody tr th {\n",
       "        vertical-align: top;\n",
       "    }\n",
       "\n",
       "    .dataframe thead th {\n",
       "        text-align: right;\n",
       "    }\n",
       "</style>\n",
       "<table border=\"1\" class=\"dataframe\">\n",
       "  <thead>\n",
       "    <tr style=\"text-align: right;\">\n",
       "      <th></th>\n",
       "      <th>Close</th>\n",
       "    </tr>\n",
       "  </thead>\n",
       "  <tbody>\n",
       "    <tr>\n",
       "      <th>0</th>\n",
       "      <td>0.317268</td>\n",
       "    </tr>\n",
       "    <tr>\n",
       "      <th>1</th>\n",
       "      <td>0.381959</td>\n",
       "    </tr>\n",
       "    <tr>\n",
       "      <th>2</th>\n",
       "      <td>0.404639</td>\n",
       "    </tr>\n",
       "    <tr>\n",
       "      <th>3</th>\n",
       "      <td>0.401031</td>\n",
       "    </tr>\n",
       "    <tr>\n",
       "      <th>4</th>\n",
       "      <td>0.316495</td>\n",
       "    </tr>\n",
       "    <tr>\n",
       "      <th>5</th>\n",
       "      <td>0.275773</td>\n",
       "    </tr>\n",
       "    <tr>\n",
       "      <th>6</th>\n",
       "      <td>0.521134</td>\n",
       "    </tr>\n",
       "  </tbody>\n",
       "</table>\n",
       "</div>"
      ],
      "text/plain": [
       "      Close\n",
       "0  0.317268\n",
       "1  0.381959\n",
       "2  0.404639\n",
       "3  0.401031\n",
       "4  0.316495\n",
       "5  0.275773\n",
       "6  0.521134"
      ]
     },
     "execution_count": 26,
     "metadata": {},
     "output_type": "execute_result"
    }
   ],
   "source": [
    "aTestNormTable"
   ]
  },
  {
   "cell_type": "code",
   "execution_count": 27,
   "id": "0db784e0",
   "metadata": {},
   "outputs": [],
   "source": [
    "actual_stock_price_test_ori=Ms.inverse_transform(aTestNormTable)"
   ]
  },
  {
   "cell_type": "code",
   "execution_count": 28,
   "id": "f85dcc5b",
   "metadata": {},
   "outputs": [
    {
     "data": {
      "text/plain": [
       "array([[712.65002441],\n",
       "       [725.20001221],\n",
       "       [729.59997559],\n",
       "       [728.90002441],\n",
       "       [712.5       ],\n",
       "       [704.59997559],\n",
       "       [752.20001221]])"
      ]
     },
     "execution_count": 28,
     "metadata": {},
     "output_type": "execute_result"
    }
   ],
   "source": [
    "actual_stock_price_test_ori"
   ]
  },
  {
   "cell_type": "code",
   "execution_count": 29,
   "id": "f07ed62f",
   "metadata": {},
   "outputs": [],
   "source": [
    "actual_stock_price_test_oriA=conversionSingle(actual_stock_price_test_ori,[column])"
   ]
  },
  {
   "cell_type": "code",
   "execution_count": 30,
   "id": "f836caa8",
   "metadata": {},
   "outputs": [
    {
     "data": {
      "text/html": [
       "<div>\n",
       "<style scoped>\n",
       "    .dataframe tbody tr th:only-of-type {\n",
       "        vertical-align: middle;\n",
       "    }\n",
       "\n",
       "    .dataframe tbody tr th {\n",
       "        vertical-align: top;\n",
       "    }\n",
       "\n",
       "    .dataframe thead th {\n",
       "        text-align: right;\n",
       "    }\n",
       "</style>\n",
       "<table border=\"1\" class=\"dataframe\">\n",
       "  <thead>\n",
       "    <tr style=\"text-align: right;\">\n",
       "      <th></th>\n",
       "      <th>Close</th>\n",
       "    </tr>\n",
       "  </thead>\n",
       "  <tbody>\n",
       "    <tr>\n",
       "      <th>0</th>\n",
       "      <td>712.650024</td>\n",
       "    </tr>\n",
       "    <tr>\n",
       "      <th>1</th>\n",
       "      <td>725.200012</td>\n",
       "    </tr>\n",
       "    <tr>\n",
       "      <th>2</th>\n",
       "      <td>729.599976</td>\n",
       "    </tr>\n",
       "    <tr>\n",
       "      <th>3</th>\n",
       "      <td>728.900024</td>\n",
       "    </tr>\n",
       "    <tr>\n",
       "      <th>4</th>\n",
       "      <td>712.5</td>\n",
       "    </tr>\n",
       "    <tr>\n",
       "      <th>5</th>\n",
       "      <td>704.599976</td>\n",
       "    </tr>\n",
       "    <tr>\n",
       "      <th>6</th>\n",
       "      <td>752.200012</td>\n",
       "    </tr>\n",
       "  </tbody>\n",
       "</table>\n",
       "</div>"
      ],
      "text/plain": [
       "        Close\n",
       "0  712.650024\n",
       "1  725.200012\n",
       "2  729.599976\n",
       "3  728.900024\n",
       "4       712.5\n",
       "5  704.599976\n",
       "6  752.200012"
      ]
     },
     "execution_count": 30,
     "metadata": {},
     "output_type": "execute_result"
    }
   ],
   "source": [
    "actual_stock_price_test_oriA"
   ]
  },
  {
   "cell_type": "code",
   "execution_count": 31,
   "id": "ec4baf14",
   "metadata": {},
   "outputs": [],
   "source": [
    "from stockFunctions import conversionSingle\n",
    "aTestNormTable=conversionSingle(y_test,[column])\n",
    "actual_stock_price_test_ori=Ms.inverse_transform(aTestNormTable)\n",
    "actual_stock_price_test_oriA=conversionSingle(actual_stock_price_test_ori,[column])"
   ]
  },
  {
   "cell_type": "code",
   "execution_count": 32,
   "id": "70991164",
   "metadata": {},
   "outputs": [],
   "source": [
    "from stockFunctions import conversionSingle\n",
    "pTestNormTable=conversionSingle(y_pred,[column])\n",
    "predicted_stock_price_test_ori=Ms.inverse_transform(pTestNormTable)\n",
    "predicted_stock_price_test_oriP=conversionSingle(predicted_stock_price_test_ori,[column])"
   ]
  },
  {
   "cell_type": "code",
   "execution_count": 33,
   "id": "d0cc9b5f",
   "metadata": {},
   "outputs": [
    {
     "data": {
      "image/png": "[encoded data removed]",
      "text/plain": [
       "<Figure size 1000x500 with 1 Axes>"
      ]
     },
     "metadata": {},
     "output_type": "display_data"
    }
   ],
   "source": [
    "from stockFunctions import graph\n",
    "graph(actual_stock_price_test_oriA,predicted_stock_price_test_oriP,\"Actual\",\"Predicted\",\"TataCoffee-Close-AR-Ori\",\"Days\",\"Prices\")"
   ]
  },
  {
   "cell_type": "code",
   "execution_count": 34,
   "id": "5b6c3244",
   "metadata": {},
   "outputs": [
    {
     "name": "stdout",
     "output_type": "stream",
     "text": [
      "RMSE-Testset: 18.131970041488493\n",
      "maPe-Testset: 0.018021786081095777\n"
     ]
    }
   ],
   "source": [
    "from stockFunctions import rmsemape\n",
    "rmsemape(actual_stock_price_test_oriA,predicted_stock_price_test_oriP)"
   ]
  },
  {
   "cell_type": "code",
   "execution_count": 35,
   "id": "ecfdc146",
   "metadata": {},
   "outputs": [],
   "source": [
    "forecast=model_fit.predict(len(data1), len(data1)+3)"
   ]
  },
  {
   "cell_type": "code",
   "execution_count": 36,
   "id": "017fcd6c",
   "metadata": {},
   "outputs": [
    {
     "data": {
      "text/plain": [
       "array([0.30474366, 0.31667382, 0.31394754, 0.31187001])"
      ]
     },
     "execution_count": 36,
     "metadata": {},
     "output_type": "execute_result"
    }
   ],
   "source": [
    "forecast"
   ]
  },
  {
   "cell_type": "code",
   "execution_count": 37,
   "id": "c30bbeda",
   "metadata": {},
   "outputs": [],
   "source": [
    "from stockFunctions import conversionSingle\n",
    "fTestNormTable=conversionSingle(forecast,[\"Closefore\"])\n",
    "forecast_stock_price_test_ori=Ms.inverse_transform(fTestNormTable)\n",
    "forecast_stock_price_test_oriF=conversionSingle(forecast_stock_price_test_ori,[\"Closefore\"])"
   ]
  },
  {
   "cell_type": "code",
   "execution_count": 38,
   "id": "5bab6ca2",
   "metadata": {},
   "outputs": [
    {
     "data": {
      "text/html": [
       "<div>\n",
       "<style scoped>\n",
       "    .dataframe tbody tr th:only-of-type {\n",
       "        vertical-align: middle;\n",
       "    }\n",
       "\n",
       "    .dataframe tbody tr th {\n",
       "        vertical-align: top;\n",
       "    }\n",
       "\n",
       "    .dataframe thead th {\n",
       "        text-align: right;\n",
       "    }\n",
       "</style>\n",
       "<table border=\"1\" class=\"dataframe\">\n",
       "  <thead>\n",
       "    <tr style=\"text-align: right;\">\n",
       "      <th></th>\n",
       "      <th>Closefore</th>\n",
       "    </tr>\n",
       "  </thead>\n",
       "  <tbody>\n",
       "    <tr>\n",
       "      <th>0</th>\n",
       "      <td>710.220245</td>\n",
       "    </tr>\n",
       "    <tr>\n",
       "      <th>1</th>\n",
       "      <td>712.534697</td>\n",
       "    </tr>\n",
       "    <tr>\n",
       "      <th>2</th>\n",
       "      <td>712.005798</td>\n",
       "    </tr>\n",
       "    <tr>\n",
       "      <th>3</th>\n",
       "      <td>711.602758</td>\n",
       "    </tr>\n",
       "  </tbody>\n",
       "</table>\n",
       "</div>"
      ],
      "text/plain": [
       "    Closefore\n",
       "0  710.220245\n",
       "1  712.534697\n",
       "2  712.005798\n",
       "3  711.602758"
      ]
     },
     "execution_count": 38,
     "metadata": {},
     "output_type": "execute_result"
    }
   ],
   "source": [
    "forecast_stock_price_test_oriF"
   ]
  },
  {
   "cell_type": "code",
   "execution_count": 39,
   "id": "599dc14a",
   "metadata": {},
   "outputs": [],
   "source": [
    "forecast_stock_price_test_oriF.to_csv(\"CloseARMA.csv\",index=False)"
   ]
  },
  {
   "cell_type": "code",
   "execution_count": 40,
   "id": "347819a9",
   "metadata": {},
   "outputs": [
    {
     "data": {
      "text/plain": [
       "[<matplotlib.lines.Line2D at 0x176601ed148>]"
      ]
     },
     "execution_count": 40,
     "metadata": {},
     "output_type": "execute_result"
    },
    {
     "data": {
      "image/png": "[encoded data removed]",
      "text/plain": [
       "<Figure size 1000x500 with 1 Axes>"
      ]
     },
     "metadata": {},
     "output_type": "display_data"
    }
   ],
   "source": [
    "import matplotlib.pyplot as plt\n",
    "plt.figure(figsize=(10,5))\n",
    "plt.plot(actual_stock_price_test_oriA[116:145], color = 'blue', label=\"Actual\")\n",
    "plt.plot(forecast_stock_price_test_oriF, color = 'red', label =\"Predicted\")"
   ]
  },
  {
   "cell_type": "code",
   "execution_count": 41,
   "id": "037d1ba4",
   "metadata": {},
   "outputs": [
    {
     "data": {
      "text/html": [
       "<div>\n",
       "<style scoped>\n",
       "    .dataframe tbody tr th:only-of-type {\n",
       "        vertical-align: middle;\n",
       "    }\n",
       "\n",
       "    .dataframe tbody tr th {\n",
       "        vertical-align: top;\n",
       "    }\n",
       "\n",
       "    .dataframe thead th {\n",
       "        text-align: right;\n",
       "    }\n",
       "</style>\n",
       "<table border=\"1\" class=\"dataframe\">\n",
       "  <thead>\n",
       "    <tr style=\"text-align: right;\">\n",
       "      <th></th>\n",
       "      <th>Closefore</th>\n",
       "    </tr>\n",
       "  </thead>\n",
       "  <tbody>\n",
       "    <tr>\n",
       "      <th>0</th>\n",
       "      <td>710.220245</td>\n",
       "    </tr>\n",
       "    <tr>\n",
       "      <th>1</th>\n",
       "      <td>712.534697</td>\n",
       "    </tr>\n",
       "    <tr>\n",
       "      <th>2</th>\n",
       "      <td>712.005798</td>\n",
       "    </tr>\n",
       "    <tr>\n",
       "      <th>3</th>\n",
       "      <td>711.602758</td>\n",
       "    </tr>\n",
       "  </tbody>\n",
       "</table>\n",
       "</div>"
      ],
      "text/plain": [
       "    Closefore\n",
       "0  710.220245\n",
       "1  712.534697\n",
       "2  712.005798\n",
       "3  711.602758"
      ]
     },
     "execution_count": 41,
     "metadata": {},
     "output_type": "execute_result"
    }
   ],
   "source": [
    "forecast_stock_price_test_oriF"
   ]
  },
  {
   "cell_type": "code",
   "execution_count": null,
   "id": "ed103e20",
   "metadata": {},
   "outputs": [],
   "source": []
  }
 ],
 "metadata": {
  "kernelspec": {
   "display_name": "Python 3 (ipykernel)",
   "language": "python",
   "name": "python3"
  },
  "language_info": {
   "codemirror_mode": {
    "name": "ipython",
    "version": 3
   },
   "file_extension": ".py",
   "mimetype": "text/x-python",
   "name": "python",
   "nbconvert_exporter": "python",
   "pygments_lexer": "ipython3",
   "version": "3.7.16"
  }
 },
 "nbformat": 4,
 "nbformat_minor": 5
}
